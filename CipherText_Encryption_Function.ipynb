{
  "nbformat": 4,
  "nbformat_minor": 0,
  "metadata": {
    "colab": {
      "name": "CipherText Encryption Function.ipynb",
      "provenance": []
    },
    "kernelspec": {
      "name": "python3",
      "display_name": "Python 3"
    },
    "language_info": {
      "name": "python"
    }
  },
  "cells": [
    {
      "cell_type": "code",
      "metadata": {
        "colab": {
          "base_uri": "https://localhost:8080/"
        },
        "id": "SK9fw6EpU11R",
        "outputId": "a0655781-a9c6-491b-d7d3-bbd60878473a"
      },
      "source": [
        "import string\n",
        "from time import sleep\n",
        "def caesar_encryption(plaintext,key):\n",
        "  encryption_str = ''\n",
        "  for i in plaintext:\n",
        "    if i.isupper():\n",
        "      temp = 65 + ((ord(i) - 65 + key) % 26) \n",
        "      encryption_str = encryption_str + chr(temp)                              \n",
        "    elif i.islower():\n",
        "      temp = 97 + ((ord(i) - 97 + key) % 26)\n",
        "      encryption_str = encryption_str + chr(temp)\n",
        "    else:\n",
        "      encryption_str = encryption_str + i  \n",
        " \n",
        "  print(\"The ciphertext is:\",encryption_str)\n",
        " \n",
        "plaintext = input(\"Enter the plaintext:\")\n",
        "key = int(input(\"Enter the key:\"))\n",
        "print(\"\\nDecrypting your message...\\n\")\n",
        "sleep(2) # give an appearance of doing something complicated\n",
        "print(\"Stand by, almost finished...\\n\")\n",
        "sleep(2) # more of the same\n",
        "caesar_encryption(plaintext,key)"
      ],
      "execution_count": 4,
      "outputs": [
        {
          "output_type": "stream",
          "name": "stdout",
          "text": [
            "Enter the plaintext:atul mishra\n",
            "Enter the key:1\n",
            "\n",
            "Decrypting your message...\n",
            "\n",
            "Stand by, almost finished...\n",
            "\n",
            "The ciphertext is: buvm njtisb\n"
          ]
        }
      ]
    }
  ]
}